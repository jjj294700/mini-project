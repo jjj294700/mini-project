{
 "cells": [
  {
   "cell_type": "code",
   "execution_count": null,
   "metadata": {},
   "outputs": [
    {
     "ename": "",
     "evalue": "",
     "output_type": "error",
     "traceback": [
      "\u001b[1;31mFailed to start the Kernel 'python-env-311 (Python 3.11.11)'. \n",
      "\u001b[1;31mView Jupyter <a href='command:jupyter.viewOutput'>log</a> for further details. listen EFAULT: bad address in system call argument 127.0.0.1:9005"
     ]
    }
   ],
   "source": [
    "import urllib\n",
    "import requests\n",
    "\n",
    "import numpy as np\n",
    "import pandas as pd\n",
    "import matplotlib.pyplot as plt\n",
    "import json\n",
    "import openapi"
   ]
  },
  {
   "cell_type": "code",
   "execution_count": null,
   "metadata": {},
   "outputs": [],
   "source": [
    "import requests\n",
    "\n",
    "# ✅ API 키 및 URL 설정\n",
    "s_key = \"PwfNqgN7hal2oSaDMz96GOgjRcDcPrZUybaows5KKV1Xa0uMKVhAbb/e2y78IJMwQ+mHPTsZgjBVqkk54niRUA==\"\n",
    "url = 'http://apis.data.go.kr/B551172/Kidney06/kiPastSmokeByType'\n",
    "\n",
    "# ✅ 기본 파라미터 설정 (numOfRows를 정수로 변경)\n",
    "params = {\n",
    "    'serviceKey': s_key,\n",
    "    'type': 'json',\n",
    "    'numOfRows': 100,  # 🔹 문자열이 아닌 정수로 변경\n",
    "    'centerNm': '국립암센터',\n",
    "    'fromYear': '2010',\n",
    "    'toYear': '2019',\n",
    "    'pageNo': 1\n",
    "}\n",
    "\n",
    "all_data = []\n",
    "\n",
    "# 1️⃣ 먼저 첫 번째 요청을 보내서 totalCount 확인\n",
    "response = requests.get(url, params=params)\n",
    "\n",
    "if response.status_code == 200:\n",
    "    resp_dict = response.json()\n",
    "    \n",
    "    # 🔹 totalCount가 없는 경우 대비하여 기본값 0 설정\n",
    "    total_count = int(resp_dict.get('totalCount', 0))  \n",
    "    items_per_page = params['numOfRows']  \n",
    "    total_pages = (total_count // items_per_page) + (1 if total_count % items_per_page else 0)\n",
    "\n",
    "    print(f\"📌 총 데이터 개수: {total_count}, 가져올 페이지 수: {total_pages}\")\n",
    "\n",
    "    # 2️⃣ total_pages 만큼 반복하여 모든 데이터를 가져오기\n",
    "    for i in range(1, total_pages + 1):\n",
    "        params['pageNo'] = i  \n",
    "        response = requests.get(url, params=params)\n",
    "        \n",
    "        if response.status_code == 200:\n",
    "            resp_dict = response.json()\n",
    "            items = resp_dict.get('items', [])  # 🔹 데이터가 없을 경우 빈 리스트 반환\n",
    "            all_data.extend(items)\n",
    "        else:\n",
    "            print(f\"❌ 데이터 요청 실패 (페이지 {i})\")\n",
    "\n",
    "    print(f\"✅ 총 {len(all_data)}개의 데이터 수집 완료!\")\n",
    "\n",
    "else:\n",
    "    print(\"❌ API 요청 실패\")"
   ]
  },
  {
   "cell_type": "code",
   "execution_count": null,
   "metadata": {},
   "outputs": [],
   "source": [
    "df_smoked = pd.DataFrame(all_data)\n",
    "df_smoked"
   ]
  },
  {
   "cell_type": "code",
   "execution_count": null,
   "metadata": {},
   "outputs": [],
   "source": [
    "df_smoked = df_smoked.iloc[:, [1,2,3,4,5,-2]]\n",
    "df_smoked"
   ]
  },
  {
   "cell_type": "code",
   "execution_count": null,
   "metadata": {},
   "outputs": [],
   "source": [
    "df_smoked.rename(columns={'statsTrgtNm':'과거 흡연 여부'}, inplace=True)"
   ]
  },
  {
   "cell_type": "code",
   "execution_count": null,
   "metadata": {},
   "outputs": [],
   "source": [
    "df_smoked.rename(columns={'centerNm':'센터 이름', 'critYr':'기준 년도', 'ptAge':'연령' ,'ptSexCd':'성별', 'ptCntNmvl': '환자수'}, inplace=True)\n",
    "df_smoked"
   ]
  },
  {
   "cell_type": "code",
   "execution_count": null,
   "metadata": {},
   "outputs": [],
   "source": [
    "df_smoked['환자수'] = pd.to_numeric(df_smoked['환자수'], errors='coerce')\n",
    "\n",
    "df_smoked['환자수'] = df_smoked['환자수'].fillna(0).astype(int)\n",
    "\n",
    "smoked_count = df_smoked.groupby(df_smoked['과거 흡연 여부'].fillna('무응답'))['환자수'].sum()\n",
    "\n",
    "print(smoked_count)"
   ]
  },
  {
   "cell_type": "code",
   "execution_count": null,
   "metadata": {},
   "outputs": [],
   "source": [
    "import matplotlib.font_manager as fm\n",
    "\n",
    "# 한글 폰트 설정 (예: 맑은 고딕)\n",
    "plt.rcParams['font.family'] = 'Malgun Gothic'\n",
    "\n",
    "# 마이너스 깨짐 방지\n",
    "plt.rcParams['axes.unicode_minus'] = False\n",
    "\n",
    "# 파이차트 그리기\n",
    "plt.figure(figsize=(6, 6))\n",
    "plt.pie(smoked_count.values, labels=smoked_count.index, autopct='%1.1f%%', startangle=140)\n",
    "plt.title('과거 흡연 여부 분포')\n",
    "plt.axis('equal')\n",
    "plt.show()"
   ]
  }
 ],
 "metadata": {
  "kernelspec": {
   "display_name": "python-env-311",
   "language": "python",
   "name": "python3"
  },
  "language_info": {
   "codemirror_mode": {
    "name": "ipython",
    "version": 3
   },
   "file_extension": ".py",
   "mimetype": "text/x-python",
   "name": "python",
   "nbconvert_exporter": "python",
   "pygments_lexer": "ipython3",
   "version": "3.11.11"
  }
 },
 "nbformat": 4,
 "nbformat_minor": 2
}
