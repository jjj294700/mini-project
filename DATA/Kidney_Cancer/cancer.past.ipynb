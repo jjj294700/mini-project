{
 "cells": [
  {
   "cell_type": "code",
   "execution_count": null,
   "id": "0aedabbf",
   "metadata": {},
   "outputs": [
    {
     "ename": "",
     "evalue": "",
     "output_type": "error",
     "traceback": [
      "\u001b[1;31mFailed to start the Kernel 'python-env-311 (Python 3.11.11)'. \n",
      "\u001b[1;31mView Jupyter <a href='command:jupyter.viewOutput'>log</a> for further details. listen EFAULT: bad address in system call argument 127.0.0.1:9002"
     ]
    }
   ],
   "source": [
    "import urllib\n",
    "import requests\n",
    "\n",
    "import numpy as np\n",
    "import pandas as pd\n",
    "import matplotlib.pyplot as plt\n",
    "import json\n",
    "import openapi"
   ]
  },
  {
   "cell_type": "code",
   "execution_count": null,
   "id": "72c5ecea",
   "metadata": {},
   "outputs": [],
   "source": [
    "import requests\n",
    "\n",
    "# ✅ API 키 및 URL 설정\n",
    "s_key = 'PwfNqgN7hal2oSaDMz96GOgjRcDcPrZUybaows5KKV1Xa0uMKVhAbb/e2y78IJMwQ+mHPTsZgjBVqkk54niRUA=='\n",
    "url = 'http://apis.data.go.kr/B551172/Kidney11/kiCaseByType'\n",
    "\n",
    "# ✅ 기본 파라미터 설정 (numOfRows를 정수로 변경)\n",
    "params = {\n",
    "    'serviceKey': s_key,\n",
    "    'type': 'json',\n",
    "    'numOfRows': 100,  # 🔹 문자열이 아닌 정수로 변경\n",
    "    'centerNm': '국립암센터',\n",
    "    'fromYear': '2010',\n",
    "    'toYear': '2019',\n",
    "    'pageNo': 1\n",
    "}\n",
    "\n",
    "all_data = []\n",
    "\n",
    "# 1️⃣ 먼저 첫 번째 요청을 보내서 totalCount 확인\n",
    "response = requests.get(url, params=params)\n",
    "\n",
    "if response.status_code == 200:\n",
    "    resp_dict = response.json()\n",
    "\n",
    "    # 🔹 totalCount가 없을 경우 기본값 0으로 설정 (오류 방지)\n",
    "    total_count = int(resp_dict.get('totalCount', 0) or 0)  \n",
    "    items_per_page = params['numOfRows']  \n",
    "    total_pages = (total_count // items_per_page) + (1 if total_count % items_per_page else 0)\n",
    "\n",
    "    print(f\"📌 총 데이터 개수: {total_count}, 가져올 페이지 수: {total_pages}\")\n",
    "\n",
    "    # ✅ 데이터가 없을 경우 메시지 출력 후 종료\n",
    "    if total_count == 0:\n",
    "        print(\"⚠️ 가져올 데이터가 없습니다.\")\n",
    "    else:\n",
    "        # 2️⃣ total_pages 만큼 반복하여 모든 데이터를 가져오기\n",
    "        for i in range(1, total_pages + 1):\n",
    "            page_params = params.copy()  # 🔹 원본 params 보호\n",
    "            page_params['pageNo'] = i  \n",
    "\n",
    "            response = requests.get(url, params=page_params)\n",
    "\n",
    "            if response.status_code == 200:\n",
    "                resp_dict = response.json()\n",
    "                items = resp_dict.get('items', [])  # 🔹 데이터가 없을 경우 빈 리스트 반환\n",
    "                all_data.extend(items)\n",
    "                print(f\"📄 페이지 {i}/{total_pages} 처리 완료! (누적 {len(all_data)}개)\")\n",
    "            else:\n",
    "                print(f\"❌ 데이터 요청 실패 (페이지 {i})\")\n",
    "\n",
    "        print(f\"✅ 총 {len(all_data)}개의 데이터 수집 완료!\")\n",
    "\n",
    "else:\n",
    "    print(f\"❌ API 요청 실패 - HTTP 상태 코드: {response.status_code}\")\n",
    "\n",
    "\n",
    "df_past = pd.DataFrame(all_data)\n",
    "df_past"
   ]
  },
  {
   "cell_type": "code",
   "execution_count": null,
   "id": "e8cbd576",
   "metadata": {},
   "outputs": [],
   "source": [
    "df_past = df_past.iloc[:, [1,2,3,4,5,-2]]"
   ]
  },
  {
   "cell_type": "code",
   "execution_count": null,
   "id": "3199fede",
   "metadata": {},
   "outputs": [],
   "source": [
    "df_past.rename(columns={'centerNm':'센터 이름', 'critYr':'기준 년도', 'statsTrgtNm':'고혈압 병력 여부', 'ptAge':'연령' ,'ptSexCd':'성별', 'statsTrgtNm':'암 발병 이력 보유 여부', 'ptCntNmvl': '환자수'}, inplace=True)\n",
    "df_past"
   ]
  },
  {
   "cell_type": "code",
   "execution_count": null,
   "id": "7454fdb2",
   "metadata": {},
   "outputs": [],
   "source": [
    "df_past['환자수'] = pd.to_numeric(df_past['환자수'], errors='coerce')\n",
    "\n",
    "df_past['환자수'] = df_past['환자수'].fillna(0).astype(int)\n",
    "\n",
    "past_count = df_past.groupby(df_past['암 발병 이력 보유 여부'].fillna('무응답'))['환자수'].sum()\n",
    "\n",
    "print(past_count)"
   ]
  },
  {
   "cell_type": "code",
   "execution_count": null,
   "id": "0400415a",
   "metadata": {},
   "outputs": [],
   "source": [
    "import matplotlib.font_manager as fm\n",
    "\n",
    "# 한글 폰트 설정 (예: 맑은 고딕)\n",
    "plt.rcParams['font.family'] = 'Malgun Gothic'\n",
    "\n",
    "# 마이너스 깨짐 방지\n",
    "plt.rcParams['axes.unicode_minus'] = False\n",
    "\n",
    "# 파이차트 그리기\n",
    "plt.figure(figsize=(6, 6))\n",
    "plt.pie(past_count.values, labels=past_count.index, autopct='%1.1f%%', startangle=140)\n",
    "plt.title('암 발병 이력 보유 여부 분포')\n",
    "plt.axis('equal')\n",
    "plt.show()"
   ]
  }
 ],
 "metadata": {
  "kernelspec": {
   "display_name": "python-env-311",
   "language": "python",
   "name": "python3"
  },
  "language_info": {
   "codemirror_mode": {
    "name": "ipython",
    "version": 3
   },
   "file_extension": ".py",
   "mimetype": "text/x-python",
   "name": "python",
   "nbconvert_exporter": "python",
   "pygments_lexer": "ipython3",
   "version": "3.11.11"
  }
 },
 "nbformat": 4,
 "nbformat_minor": 5
}
